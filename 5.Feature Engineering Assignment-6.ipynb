{
 "cells": [
  {
   "cell_type": "markdown",
   "id": "8881f1bd-cd9c-4cff-bcd7-8478f803cf7a",
   "metadata": {},
   "source": [
    "### Q1. Pearson correlation coefficient is a measure of the linear relationship between two variables. Suppose you have collected data on the amount of time students spend studying for an exam and their final exam scores. Calculate the Pearson correlation coefficient between these two variables and interpret the result."
   ]
  },
  {
   "cell_type": "markdown",
   "id": "8ba4e6f9-c16a-4116-adb4-eaf0ac523677",
   "metadata": {},
   "source": [
    "To calculate the Pearson correlation coefficient between the amount of time students spend studying for an exam and their final exam scores, you would need data on both variables. Let's say you have collected data for 10 students:\n",
    "\n",
    "Amount of time spent studying (in hours):\n",
    "$ x = [5, 6, 3, 7, 4, 8, 5, 6, 7, 4]$\n",
    "\n",
    "Final exam scores:\n",
    "$ y = [80, 85, 70, 90, 75, 95, 80, 85, 88, 78] $\n",
    "\n",
    "Using the formula I mentioned earlier:\n",
    "\n",
    "$ r = \\frac{n(\\sum xy) - (\\sum x)(\\sum y)}{\\sqrt{[n\\sum x^2 - (\\sum x)^2][n\\sum y^2 - (\\sum y)^2]}} $\n",
    "\n",
    "where $( n )$ is the number of data points, $( \\sum xy )$ is the sum of the products of corresponding values of $( x )$ and $( y )$, $( \\sum x )$ is the sum of the $( x )$ values, and similarly for $( \\sum y )$ and $( \\sum x^2 )$ and $( \\sum y^2 )$ are the sum of the squares of $( x )$ and $( y )$ respectively.\n",
    "\n",
    "Let's calculate each part:\n",
    "\n",
    "$ n = 10 $\n",
    "\n",
    "$ \\sum x = 5 + 6 + 3 + 7 + 4 + 8 + 5 + 6 + 7 + 4 = 55 $\n",
    "\n",
    "$ \\sum y = 80 + 85 + 70 + 90 + 75 + 95 + 80 + 85 + 88 + 78 = 826 $\n",
    "\n",
    "$ \\sum xy = (5*80) + (6*85) + (3*70) + (7*90) + (4*75) + (8*95) + (5*80) + (6*85) + (7*88) + (4*78) = 4648 $\n",
    "\n",
    "$ \\sum x^2 = (5^2) + (6^2) + (3^2) + (7^2) + (4^2) + (8^2) + (5^2) + (6^2) + (7^2) + (4^2) = 325 $\n",
    "\n",
    "$ \\sum y^2 = (80^2) + (85^2) + (70^2) + (90^2) + (75^2) + (95^2) + (80^2) + (85^2) + (88^2) + (78^2) = 68728 $\n",
    "\n",
    "Now, plug these values into the formula:\n",
    "\n",
    "$ r = \\frac{(10*4648) - (55*826)}{\\sqrt{[(10*325) - (55)^2][(10*68728) - (826)^2]}} $\n",
    "\n",
    "$ r = \\frac{46480 - 45430}{\\sqrt{[3250 - 3025][687280 - 682276]}} $\n",
    "\n",
    "$ r = \\frac{1050}{\\sqrt{(225)(5004)}} $\n",
    "\n",
    "$ r = \\frac{1050}{\\sqrt{1125900}} $\n",
    "\n",
    "$ r ≈ \\frac{1050}{1061.0843510} $\n",
    "\n",
    "$ r ≈ 0.98 $\n",
    "\n",
    "Interpretation: The Pearson correlation coefficient $ r $ is approximately 0.98. Since it's positive, it indicates a moderate positive linear relationship between the amount of time spent studying and the final exam scores. In other words, students who spend more time studying tend to achieve higher exam scores."
   ]
  },
  {
   "cell_type": "code",
   "execution_count": 1,
   "id": "ae5e322a-d182-41f9-87f6-f0ca0dce402a",
   "metadata": {},
   "outputs": [
    {
     "name": "stdout",
     "output_type": "stream",
     "text": [
      "Pearson correlation coefficient: 0.9895537512932995\n"
     ]
    }
   ],
   "source": [
    "from scipy.stats import pearsonr\n",
    "\n",
    "# Data\n",
    "studying_time = [5, 6, 3, 7, 4, 8, 5, 6, 7, 4]\n",
    "exam_scores = [80, 85, 70, 90, 75, 95, 80, 85, 88, 78]\n",
    "\n",
    "# Calculate Pearson correlation coefficient\n",
    "pearson_coefficient, p_value = pearsonr(studying_time, exam_scores)\n",
    "print(\"Pearson correlation coefficient:\", pearson_coefficient)\n"
   ]
  },
  {
   "cell_type": "markdown",
   "id": "c719ca9d-f6df-48d4-b899-b829f53ace67",
   "metadata": {},
   "source": [
    "### Q2. Spearman's rank correlation is a measure of the monotonic relationship between two variables. Suppose you have collected data on the amount of sleep individuals get each night and their overall job satisfaction level on a scale of 1 to 10. Calculate the Spearman's rank correlation between these two variables and interpret the result."
   ]
  },
  {
   "cell_type": "markdown",
   "id": "07c96410-0827-4b42-80a5-15491a17411f",
   "metadata": {},
   "source": [
    "To calculate Spearman's rank correlation coefficient between the amount of sleep individuals get each night and their overall job satisfaction level, you first need to rank both sets of data and then apply the formula for Spearman's rank correlation coefficient.\n",
    "\n",
    "Let's assume you have the following data:\n",
    "\n",
    "- Amount of sleep (X): [7, 6, 8, 5, 9]\n",
    "- Job satisfaction level (Y): [6, 7, 9, 5, 8]\n",
    "\n",
    "Step 1: Rank the data\n",
    "- Amount of sleep (X): [3, 4, 2, 5, 1]\n",
    "- Job satisfaction level (Y): [4, 3, 1, 5, 2]\n",
    "\n",
    "Step 2: Calculate the differences between ranks and square them\n",
    "- Difference in ranks (d): [-1, 1, 1, 0, -1]\n",
    "- Squared differences (d²): [1, 1, 1, 0, 1]\n",
    "\n",
    "Step 3: Calculate Spearman's rank correlation coefficient (ρ)\n",
    "- Number of data points (n): 5\n",
    "- Formula: \n",
    "$ ρ = 1 - \\frac{6 \\sum(d²)}{n(n² - 1)} $\n",
    "\n",
    "$ ρ = 1 - \\frac{6 \\times (1 + 1 + 1 + 0 + 1)}{5 \\times (5² - 1)} $\n",
    "\n",
    "$ ρ = 1 - \\frac{6 \\times 4}{5 \\times 24} $\n",
    "\n",
    "$ ρ = 1 - \\frac{24}{120} $\n",
    "\n",
    "$ ρ = 1 - 0.2 $\n",
    "\n",
    "$ ρ = 0.80 $"
   ]
  },
  {
   "cell_type": "code",
   "execution_count": 2,
   "id": "f454cc69-79e2-4475-9566-c0dfec7fc15d",
   "metadata": {},
   "outputs": [
    {
     "name": "stdout",
     "output_type": "stream",
     "text": [
      "Spearman's rank correlation coefficient (ρ): 0.7999999999999999\n"
     ]
    }
   ],
   "source": [
    "from scipy.stats import spearmanr\n",
    "\n",
    "# Data\n",
    "amount_of_sleep = [7, 6, 8, 5, 9]\n",
    "job_satisfaction =[6, 7, 9, 5, 8]\n",
    "\n",
    "# Calculate Spearman's rank correlation coefficient\n",
    "rho, _ = spearmanr(amount_of_sleep, job_satisfaction)\n",
    "\n",
    "print(\"Spearman's rank correlation coefficient (ρ):\", rho)\n"
   ]
  },
  {
   "cell_type": "markdown",
   "id": "fd33b8a1-0279-4b86-bee8-0b2595dd3d5f",
   "metadata": {},
   "source": [
    "### Q3. Suppose you are conducting a study to examine the relationship between the number of hours of exercise per week and body mass index (BMI) in a sample of adults. You collected data on both variables for 50 participants. Calculate the Pearson correlation coefficient and the Spearman's rank correlation between these two variables and compare the results."
   ]
  },
  {
   "cell_type": "code",
   "execution_count": 3,
   "id": "8a71950b-8b57-4d44-ba67-29f987a09c4e",
   "metadata": {},
   "outputs": [
    {
     "name": "stdout",
     "output_type": "stream",
     "text": [
      "Pearson correlation coefficient: 0.7982948346756761\n",
      "Spearman's rank correlation coefficient: 0.7860448697442307\n"
     ]
    }
   ],
   "source": [
    "import numpy as np\n",
    "from scipy.stats import pearsonr, spearmanr\n",
    "\n",
    "# Generate random data for hours of exercise per week\n",
    "hours_of_exercise = np.random.randint(1, 20, 50)\n",
    "\n",
    "# Generate corresponding random BMI values\n",
    "# We'll assume a hypothetical relationship, where BMI increases with hours of exercise\n",
    "# but with some random noise added\n",
    "bmi = 22 + 0.5 * hours_of_exercise + np.random.normal(0, 2, 50)\n",
    "\n",
    "# Calculate Pearson correlation coefficient\n",
    "pearson_corr, _ = pearsonr(hours_of_exercise, bmi)\n",
    "\n",
    "# Calculate Spearman's rank correlation coefficient\n",
    "spearman_corr, _ = spearmanr(hours_of_exercise, bmi)\n",
    "\n",
    "print(\"Pearson correlation coefficient:\", pearson_corr)\n",
    "print(\"Spearman's rank correlation coefficient:\", spearman_corr)\n"
   ]
  },
  {
   "cell_type": "markdown",
   "id": "b0a6fbcd-9bcc-4e8c-9239-098a0b8931e3",
   "metadata": {},
   "source": [
    "Comparing the  coefficients:\n",
    "\n",
    "If both coefficients are similar in magnitude and direction, it suggests that the relationship between the variables is both linear and monotonic.\n",
    "If there's a discrepancy between the coefficients, it indicates that the relationship might be non-linear but monotonic."
   ]
  },
  {
   "cell_type": "markdown",
   "id": "3d96ddfe-89ab-49a7-9d02-cb85b9b7c9cd",
   "metadata": {},
   "source": [
    "### Q4. A researcher is interested in examining the relationship between the number of hours individuals spend watching television per day and their level of physical activity. The researcher collected data on both variables from a sample of 50 participants. Calculate the Pearson correlation coefficient between these two variables."
   ]
  },
  {
   "cell_type": "code",
   "execution_count": 2,
   "id": "a974a54e-c382-46d0-8438-b9feb8c74086",
   "metadata": {},
   "outputs": [
    {
     "name": "stdout",
     "output_type": "stream",
     "text": [
      "Pearson correlation coefficient: 0.06563469824484604\n"
     ]
    }
   ],
   "source": [
    "import numpy as np\n",
    "from scipy.stats import pearsonr\n",
    "\n",
    "# Generate sample data\n",
    "np.random.seed(42)  # for reproducibility\n",
    "tv_hours = np.random.uniform(0, 6, 50)  # Random hours of TV watching per day\n",
    "physical_activity = np.random.randint(0, 10, 50)  # Random level of physical activity\n",
    "\n",
    "# Calculate Pearson correlation coefficient\n",
    "pearson_corr, _ = pearsonr(tv_hours, physical_activity)\n",
    "\n",
    "print(\"Pearson correlation coefficient:\", pearson_corr)\n"
   ]
  },
  {
   "cell_type": "markdown",
   "id": "d19f7888-2794-4a46-800b-4f415623b6e6",
   "metadata": {},
   "source": [
    "### A survey was conducted to examine the relationship between age and preference for a particular brand of soft drink. The survey results are shown below:\n",
    "\n",
    "```\n",
    "Age(Years)            |  Soft drink Preference\n",
    "-----------------------------------------------\n",
    "   25                 |     Coke \n",
    "   42                 |    Pepsi\n",
    "   37                 |    Mountain dew\n",
    "   19                 |    Coke\n",
    "   31                 |   Pepsi\n",
    "   28                 |   Coke\n",
    " \n",
    "```"
   ]
  },
  {
   "cell_type": "code",
   "execution_count": 7,
   "id": "48bc1c8f-290c-47ae-a541-344eeff89b88",
   "metadata": {},
   "outputs": [
    {
     "name": "stdout",
     "output_type": "stream",
     "text": [
      "{'Coke': 3, 'Pepsi': 2, 'Mountain Dew': 1}\n"
     ]
    },
    {
     "data": {
      "image/png": "[encoded data removed]",
      "text/plain": [
       "<Figure size 800x600 with 1 Axes>"
      ]
     },
     "metadata": {},
     "output_type": "display_data"
    }
   ],
   "source": [
    "import matplotlib.pyplot as plt\n",
    "\n",
    "# Data\n",
    "ages = [25, 42, 37, 19, 31, 28]\n",
    "soft_drinks = ['Coke', 'Pepsi', 'Mountain Dew', 'Coke', 'Pepsi', 'Coke']\n",
    "\n",
    "# Count the frequency of each soft drink preference\n",
    "preference_count = {}\n",
    "for soft_drink in soft_drinks:\n",
    "    preference_count[soft_drink] = preference_count.get(soft_drink, 0) + 1\n",
    "print(preference_count)\n",
    "\n",
    "# Create the bar plot\n",
    "plt.figure(figsize=(8, 6))\n",
    "plt.bar(preference_count.keys(), preference_count.values(), color='skyblue')\n",
    "\n",
    "# Add labels and title\n",
    "plt.xlabel('Soft Drink Preference')\n",
    "plt.ylabel('Frequency')\n",
    "plt.title('Soft Drink Preference by Age')\n",
    "\n",
    "# Show plot\n",
    "plt.show()\n"
   ]
  },
  {
   "cell_type": "code",
   "execution_count": null,
   "id": "c10044a6-e946-4a02-9163-fb8de74d1238",
   "metadata": {},
   "outputs": [],
   "source": []
  },
  {
   "cell_type": "code",
   "execution_count": 8,
   "id": "f95393cd-3270-4089-adfa-ab222419904e",
   "metadata": {},
   "outputs": [
    {
     "name": "stdout",
     "output_type": "stream",
     "text": [
      "Pearson correlation coefficient: 0.15664373157379347\n"
     ]
    }
   ],
   "source": [
    "import numpy as np\n",
    "from scipy.stats import pearsonr\n",
    "\n",
    "# Generate sample data\n",
    "np.random.seed(42)  # for reproducibility\n",
    "sales_calls_per_day = np.random.randint(20, 50, 30)  # Random number of sales calls per day\n",
    "sales_per_week = np.random.randint(5, 20, 30)  # Random number of sales per week\n",
    "\n",
    "# Calculate Pearson correlation coefficient\n",
    "pearson_corr, _ = pearsonr(sales_calls_per_day, sales_per_week)\n",
    "\n",
    "print(\"Pearson correlation coefficient:\", pearson_corr)\n"
   ]
  }
 ],
 "metadata": {
  "kernelspec": {
   "display_name": "Python 3 (ipykernel)",
   "language": "python",
   "name": "python3"
  },
  "language_info": {
   "codemirror_mode": {
    "name": "ipython",
    "version": 3
   },
   "file_extension": ".py",
   "mimetype": "text/x-python",
   "name": "python",
   "nbconvert_exporter": "python",
   "pygments_lexer": "ipython3",
   "version": "3.10.8"
  }
 },
 "nbformat": 4,
 "nbformat_minor": 5
}
